{
  "nbformat": 4,
  "nbformat_minor": 0,
  "metadata": {
    "colab": {
      "name": "Bayesian Neural Networks",
      "provenance": [],
      "collapsed_sections": []
    },
    "kernelspec": {
      "name": "python3",
      "display_name": "Python 3"
    },
    "language_info": {
      "name": "python"
    }
  },
  "cells": [
    {
      "cell_type": "markdown",
      "source": [
        "Let's try to train a simple neural network architecture with bayesian inferencing"
      ],
      "metadata": {
        "id": "mfGWmrRHoAVQ"
      }
    },
    {
      "cell_type": "code",
      "source": [
        "!pip install -U torch "
      ],
      "metadata": {
        "colab": {
          "base_uri": "https://localhost:8080/"
        },
        "id": "jIaO0ebqPS2G",
        "outputId": "2e614fc1-fbb9-4672-ab35-a6ccf041d90f"
      },
      "execution_count": 1,
      "outputs": [
        {
          "output_type": "stream",
          "name": "stdout",
          "text": [
            "Requirement already satisfied: torch in /usr/local/lib/python3.7/dist-packages (1.10.2)\n",
            "Requirement already satisfied: typing-extensions in /usr/local/lib/python3.7/dist-packages (from torch) (3.10.0.2)\n"
          ]
        }
      ]
    },
    {
      "cell_type": "code",
      "source": [
        "!pip3 install pyro-ppl==1.4.0"
      ],
      "metadata": {
        "colab": {
          "base_uri": "https://localhost:8080/"
        },
        "id": "zdOE4XBMQqj2",
        "outputId": "9c4c57a8-476b-4421-98d4-84d3b3a8a0e3"
      },
      "execution_count": 2,
      "outputs": [
        {
          "output_type": "stream",
          "name": "stdout",
          "text": [
            "Requirement already satisfied: pyro-ppl==1.4.0 in /usr/local/lib/python3.7/dist-packages (1.4.0)\n",
            "Requirement already satisfied: torch>=1.5.0 in /usr/local/lib/python3.7/dist-packages (from pyro-ppl==1.4.0) (1.10.2)\n",
            "Requirement already satisfied: opt-einsum>=2.3.2 in /usr/local/lib/python3.7/dist-packages (from pyro-ppl==1.4.0) (3.3.0)\n",
            "Requirement already satisfied: numpy>=1.7 in /usr/local/lib/python3.7/dist-packages (from pyro-ppl==1.4.0) (1.19.5)\n",
            "Requirement already satisfied: pyro-api>=0.1.1 in /usr/local/lib/python3.7/dist-packages (from pyro-ppl==1.4.0) (0.1.2)\n",
            "Requirement already satisfied: tqdm>=4.36 in /usr/local/lib/python3.7/dist-packages (from pyro-ppl==1.4.0) (4.62.3)\n",
            "Requirement already satisfied: typing-extensions in /usr/local/lib/python3.7/dist-packages (from torch>=1.5.0->pyro-ppl==1.4.0) (3.10.0.2)\n"
          ]
        }
      ]
    },
    {
      "cell_type": "code",
      "source": [
        "!pip install scipy==1.1.0"
      ],
      "metadata": {
        "colab": {
          "base_uri": "https://localhost:8080/"
        },
        "id": "YsY_atAoPNGi",
        "outputId": "b3cb97f3-6c58-437d-9fe0-f1f758aeeeed"
      },
      "execution_count": 3,
      "outputs": [
        {
          "output_type": "stream",
          "name": "stdout",
          "text": [
            "Requirement already satisfied: scipy==1.1.0 in /usr/local/lib/python3.7/dist-packages (1.1.0)\n",
            "Requirement already satisfied: numpy>=1.8.2 in /usr/local/lib/python3.7/dist-packages (from scipy==1.1.0) (1.19.5)\n"
          ]
        }
      ]
    },
    {
      "cell_type": "code",
      "execution_count": 4,
      "metadata": {
        "id": "hRyYp6LUO548"
      },
      "outputs": [],
      "source": [
        "import torch\n",
        "import torch.nn as nn\n",
        "import torch.nn.functional as F\n",
        "import torch.optim as optim\n",
        "import torchvision\n",
        "from torchvision import datasets, transforms\n",
        "from torch.utils.data import DataLoader"
      ]
    },
    {
      "cell_type": "code",
      "source": [
        "import numpy as np\n",
        "import matplotlib.pyplot as plt\n",
        "from matplotlib import colors\n",
        "from IPython import display\n",
        "import os\n",
        "from PIL import Image\n",
        "from torch.utils.data.dataset import Dataset\n",
        "from scipy.misc import imread"
      ],
      "metadata": {
        "id": "ZBVKksSUPBNn"
      },
      "execution_count": 5,
      "outputs": []
    },
    {
      "cell_type": "code",
      "source": [
        "import pyro\n",
        "from pyro.distributions import Normal, Categorical\n",
        "from pyro.infer import SVI, Trace_ELBO\n",
        "from pyro.optim import Adam"
      ],
      "metadata": {
        "id": "nP06ePemPFWS"
      },
      "execution_count": 6,
      "outputs": []
    },
    {
      "cell_type": "code",
      "source": [
        "%matplotlib inline"
      ],
      "metadata": {
        "id": "Nk2UP0JBPE4b"
      },
      "execution_count": 7,
      "outputs": []
    },
    {
      "cell_type": "markdown",
      "source": [
        "Defining a simple neural network architecture"
      ],
      "metadata": {
        "id": "_r6WHzxBgLgV"
      }
    },
    {
      "cell_type": "code",
      "source": [
        "class NN(nn.Module):\n",
        "    \"\"\" Defining a fully connected layer with an output layer \"\"\"\n",
        "    def __init__(self, input_size, hidden_size, output_size):\n",
        "        super(NN, self).__init__()\n",
        "        self.fc1 = nn.Linear(input_size, hidden_size)\n",
        "        self.out = nn.Linear(hidden_size, output_size)\n",
        "        \n",
        "    def forward(self, x):\n",
        "        output = self.fc1(x)\n",
        "        output = F.relu(output)\n",
        "        output = self.out(output)\n",
        "        return output"
      ],
      "metadata": {
        "id": "5H7ry0rwPFPi"
      },
      "execution_count": 8,
      "outputs": []
    },
    {
      "cell_type": "markdown",
      "source": [
        "The softmax function is a good way of normalizing any value from [-infy, +infy] by applying an exponential function. However, it may create issues sometimes as we get large output values for small values of input. For example,\n",
        "\n",
        "As the numbers are too big the exponents will probably blow up (computer cannot handle such big numbers) giving Nan as output.\n",
        "\n",
        "From the softmax probabilities above, we can deduce that softmax can become numerically unstable for values with a very large range. Consider these values,\n",
        "x = np.array([10, 2, 10000, 4])\n",
        "print(softmax(x))\n",
        "\n",
        "output: [0.0,  0.0, nan,  0.0]\n",
        "\n",
        "\n",
        "\n",
        "Log softmax is the log of softmax function, mathematically,\n",
        "\n",
        "zi - log(summation of exponentials of all zi's)\n",
        "\n",
        "lesser computations of divisions and multiplications as addition is less computationally expensive.\n"
      ],
      "metadata": {
        "id": "2nkcC2rTgofW"
      }
    },
    {
      "cell_type": "code",
      "source": [
        "log_softmax = nn.LogSoftmax(dim=1) #takes log of the softmax output for fast \n",
        "softmax = nn.Softmax(dim=1)\n",
        "\n",
        "softplus = torch.nn.Softplus()\n",
        "relu = nn.ReLU()"
      ],
      "metadata": {
        "id": "kbEfEUlCRANL"
      },
      "execution_count": 9,
      "outputs": []
    },
    {
      "cell_type": "code",
      "source": [
        "train_loader = torch.utils.data.DataLoader(\n",
        "        datasets.MNIST('mnist-data/', train=True, download=True,\n",
        "                       transform=transforms.Compose([transforms.ToTensor(),])),\n",
        "        batch_size=128, shuffle=True)\n",
        "\n",
        "test_loader = torch.utils.data.DataLoader(\n",
        "        datasets.MNIST('mnist-data/', train=False, transform=transforms.Compose([transforms.ToTensor(),])\n",
        "                       ),\n",
        "        batch_size=128, shuffle=True)"
      ],
      "metadata": {
        "id": "YQf83tzfPFR-"
      },
      "execution_count": 10,
      "outputs": []
    },
    {
      "cell_type": "code",
      "source": [
        "net = NN(28*28, 1024, 10)"
      ],
      "metadata": {
        "id": "AeZJJFRkPFUS"
      },
      "execution_count": 11,
      "outputs": []
    },
    {
      "cell_type": "code",
      "source": [
        "classes = ('0', '1', '2', '3',\n",
        "           '4', '5', '6', '7', '8', '9')"
      ],
      "metadata": {
        "id": "1Mg1VjiBP78t"
      },
      "execution_count": 12,
      "outputs": []
    },
    {
      "cell_type": "code",
      "source": [
        "def show_image(img):\n",
        "  \"\"\"Displaying an image \"\"\"\n",
        "  npimg = img.numpy()\n",
        "  fig, ax = plt.subplots(figsize=(1, 1))\n",
        "  ax.imshow(npimg,  cmap='gray', interpolation='nearest')\n",
        "  plt.show()"
      ],
      "metadata": {
        "id": "8gtFf7afP9Z6"
      },
      "execution_count": 13,
      "outputs": []
    },
    {
      "cell_type": "markdown",
      "source": [
        "A quick note on softplus : \n",
        "The Softplus function is a smooth approximation of the ReLU function that removes the knee in the ReLU function graph and replaces it with a smooth curve.\n",
        "the output is always positive!"
      ],
      "metadata": {
        "id": "4O_O_PQ66FIA"
      }
    },
    {
      "cell_type": "code",
      "source": [
        "\n",
        "def guide(x_data, y_data):\n",
        "    \"\"\" This function is used for training the weights and biases distribution and optimise the model\"\"\"\n",
        "    # First layer weight distribution priors\n",
        "    fc1w_mu = torch.randn_like(net.fc1.weight)\n",
        "    fc1w_sigma = torch.randn_like(net.fc1.weight)\n",
        "    fc1w_mu_param = pyro.param(\"fc1w_mu\", fc1w_mu)\n",
        "    fc1w_sigma_param = softplus(pyro.param(\"fc1w_sigma\", fc1w_sigma))\n",
        "    fc1w_prior = Normal(loc=fc1w_mu_param, scale=fc1w_sigma_param)\n",
        "    # First layer bias distribution priors\n",
        "    fc1b_mu = torch.randn_like(net.fc1.bias)\n",
        "    fc1b_sigma = torch.randn_like(net.fc1.bias)\n",
        "    fc1b_mu_param = pyro.param(\"fc1b_mu\", fc1b_mu)\n",
        "    fc1b_sigma_param = softplus(pyro.param(\"fc1b_sigma\", fc1b_sigma))\n",
        "    fc1b_prior = Normal(loc=fc1b_mu_param, scale=fc1b_sigma_param)\n",
        "    # Output layer weight distribution priors\n",
        "    outw_mu = torch.randn_like(net.out.weight)\n",
        "    outw_sigma = torch.randn_like(net.out.weight)\n",
        "    outw_mu_param = pyro.param(\"outw_mu\", outw_mu)\n",
        "    outw_sigma_param = softplus(pyro.param(\"outw_sigma\", outw_sigma))\n",
        "    outw_prior = Normal(loc=outw_mu_param, scale=outw_sigma_param).independent(1)\n",
        "    # Output layer bias distribution priors\n",
        "    outb_mu = torch.randn_like(net.out.bias)\n",
        "    outb_sigma = torch.randn_like(net.out.bias)\n",
        "    outb_mu_param = pyro.param(\"outb_mu\", outb_mu)\n",
        "    outb_sigma_param = softplus(pyro.param(\"outb_sigma\", outb_sigma))\n",
        "    outb_prior = Normal(loc=outb_mu_param, scale=outb_sigma_param)\n",
        "    priors = {'fc1.weight': fc1w_prior, 'fc1.bias': fc1b_prior, 'out.weight': outw_prior, 'out.bias': outb_prior}\n",
        "    \n",
        "    lifted_module = pyro.random_module(\"module\", net, priors)\n",
        "    \n",
        "    return lifted_module()"
      ],
      "metadata": {
        "id": "aB4gpjApPFau"
      },
      "execution_count": 14,
      "outputs": []
    },
    {
      "cell_type": "markdown",
      "source": [
        "Initialising all bias and weights with normal distribution at the start, hence the likelihood of the parameters representing the data will be very low.\n",
        "\n",
        "In the model() function, we have defined P(A) — the priors on weights and biases."
      ],
      "metadata": {
        "id": "H0meoGylivRe"
      }
    },
    {
      "cell_type": "code",
      "source": [
        "def model(x_data, y_data):\n",
        "    \"\"\" We define the priors on weights and biases \"\"\"\n",
        "    fc1w_prior = Normal(loc=torch.zeros_like(net.fc1.weight), scale=torch.ones_like(net.fc1.weight))\n",
        "    fc1b_prior = Normal(loc=torch.zeros_like(net.fc1.bias), scale=torch.ones_like(net.fc1.bias))\n",
        "    \n",
        "    outw_prior = Normal(loc=torch.zeros_like(net.out.weight), scale=torch.ones_like(net.out.weight))\n",
        "    outb_prior = Normal(loc=torch.zeros_like(net.out.bias), scale=torch.ones_like(net.out.bias))\n",
        "    \n",
        "    priors = {'fc1.weight': fc1w_prior, 'fc1.bias': fc1b_prior,  'out.weight': outw_prior, 'out.bias': outb_prior}\n",
        "    # lift module parameters to random variables sampled from the priors\n",
        "    lifted_module = pyro.random_module(\"module\", net, priors)\n",
        "    # sample a regressor (which also samples w and b)\n",
        "    lifted_reg_model = lifted_module()\n",
        "    \n",
        "    lhat = log_softmax(lifted_reg_model(x_data))\n",
        "\n",
        "    event_dim = max(lhat.dim() - 1, y_data.dim())\n",
        "    #telling the model that the output is a categorical variable equal to 10 classes\n",
        "    pyro.sample(\"obs\", Categorical(logits=lhat).to_event(event_dim), obs=y_data)"
      ],
      "metadata": {
        "id": "1iXZ1fGbPFYs"
      },
      "execution_count": 15,
      "outputs": []
    },
    {
      "cell_type": "code",
      "source": [
        "optim = Adam({\"lr\": 0.001})\n",
        "svi = SVI(model, guide, optim, loss=Trace_ELBO())"
      ],
      "metadata": {
        "id": "aW7bqhA0PFc7"
      },
      "execution_count": 16,
      "outputs": []
    },
    {
      "cell_type": "markdown",
      "source": [
        "Since calculating the \"Evidence\" in the denominator of bayes theorem is very time consuming, because :\n",
        "1. Hypothetically, values of parameters Aj could range from -infinity to +infinity\n",
        "2. For each value of Aj in that range, you have to run the model to find the likelihood of generating the input, output pairs you observe (the total dataset could be in millions of pairs)\n",
        "3. There could be not one but many such parameters (j >> 1). In fact, for a neural network of our size, we have ~8million parameters (number of weights = 1024*28*28*10).\n",
        "\n",
        "\n",
        "Hence, we try to use variational bayes method where we find the closest distribution (for example gaussian) to the posterior.\n",
        "\n",
        "The gist of Variational Bayes methods is that since we can’t exactly compute the posterior, we can find the closest probability distribution to it that is a surrogate disribution with small set of paramters like mean or variance. So, after random initialization of those parameters in a “surrogate” distribution, you can do gradient descent and modify parameters of the distribution (like mean or variance) a little bit each time to see if the resulting distribution is closer to the posterior that you want to calculate. (If you’re thinking how do we know if resulting distribution is closer to the posterior if posterior is exactly what we want to calculate, you’ve understood the idea. The answer is that, surprisingly, we don’t need the exact posterior to find closeness between it and the other “surrogate” distribution. From model likelihood and model prior, we can find how close two distributions are using KL-Divergence measure.\n",
        "\n",
        "From KL-Divergence formula, we try to use ELBO as loss function. \n",
        "\n",
        "ELBO (evidence lower bound) is a loss function just like cross entropy or mean squared error to track how \"close\" we are to the distribution.\n",
        "\n"
      ],
      "metadata": {
        "id": "WIKic4BHjF8l"
      }
    },
    {
      "cell_type": "code",
      "source": [
        "num_iterations = 15\n",
        "loss = 0\n",
        "\n",
        "for j in range(num_iterations):\n",
        "    loss = 0\n",
        "    for batch_id, data in enumerate(train_loader):\n",
        "        # calculate the loss and take a gradient step\n",
        "        loss += svi.step(data[0].view(-1,28*28), data[1])\n",
        "    normalizer_train = len(train_loader.dataset)\n",
        "    total_epoch_loss_train = loss / normalizer_train\n",
        "    \n",
        "    print(\"Epoch \", j, \" Loss \", total_epoch_loss_train)"
      ],
      "metadata": {
        "colab": {
          "base_uri": "https://localhost:8080/"
        },
        "id": "p_rK6nZ7PFfB",
        "outputId": "01de37f6-ea66-4b6e-d0f8-594a2cd89f79"
      },
      "execution_count": 17,
      "outputs": [
        {
          "output_type": "stream",
          "name": "stderr",
          "text": [
            "/usr/local/lib/python3.7/dist-packages/pyro/primitives.py:406: FutureWarning: The `random_module` primitive is deprecated, and will be removed in a future release. Use `pyro.nn.Module` to create Bayesian modules from `torch.nn.Module` instances.\n",
            "  \"modules from `torch.nn.Module` instances.\", FutureWarning)\n"
          ]
        },
        {
          "output_type": "stream",
          "name": "stdout",
          "text": [
            "Epoch  0  Loss  5214.822222446267\n",
            "Epoch  1  Loss  3803.7218564522427\n",
            "Epoch  2  Loss  2845.987932377672\n",
            "Epoch  3  Loss  2151.7373882872103\n",
            "Epoch  4  Loss  1647.7442601480006\n",
            "Epoch  5  Loss  1277.3082127123514\n",
            "Epoch  6  Loss  999.9699672053496\n",
            "Epoch  7  Loss  789.1841042769591\n",
            "Epoch  8  Loss  627.7216931297144\n",
            "Epoch  9  Loss  502.2283314657847\n",
            "Epoch  10  Loss  404.6503089343707\n",
            "Epoch  11  Loss  329.55994814240137\n",
            "Epoch  12  Loss  269.4030268874009\n",
            "Epoch  13  Loss  223.5314849398772\n",
            "Epoch  14  Loss  186.98078346862792\n"
          ]
        }
      ]
    },
    {
      "cell_type": "code",
      "source": [
        "num_samples = 10\n",
        "def predict(x):\n",
        "  \"\"\"Make different models based on num_samples and make predictions\"\"\"\n",
        "  sampled_models = [guide(None, None) for _ in range(num_samples)]\n",
        "  yhats = [model(x).data for model in sampled_models]\n",
        "  mean = torch.mean(torch.stack(yhats), 0) #take model average of all classes for all models\n",
        "  return np.argmax(mean.numpy(), axis=1) #take that class whose max prob is there"
      ],
      "metadata": {
        "id": "zMfqlGgEP4BL"
      },
      "execution_count": 18,
      "outputs": []
    },
    {
      "cell_type": "markdown",
      "source": [
        "First thing to notice in the predict() function is that we’re using the learned guide() function (and not the model() function) to do predictions. This is because for model(), all we know is priors for weights and not the posterior. But for guide() after optimization iterations, the distribution given by the parameter values approximate the true posterior and so we can use it for predictions.\n",
        "\n",
        "Second thing to notice is that for each prediction, we’re sampling a new set of weights and parameters 10 times (given by num_samples). This effectively means that we’re sampling a new neural network 10 times for making one prediction. As you will see later, this is what enables us to give uncertainities on outputs. In the case above, to make a prediction, we’re averaging final layer output values of the 10 sampled nets for the given input and taking the max activation value as the predicted digit. \n",
        "\n"
      ],
      "metadata": {
        "id": "ul110_rckVXj"
      }
    },
    {
      "cell_type": "markdown",
      "source": [
        "But note that in above case, we’re forcing our net to make a prediction in each case. We haven’t used the magic of Bayes theorem to enable our net to say: “I refuse to make a prediction here”.\n",
        "\n",
        "To do that:\n",
        "\n",
        "1. For an input image, take 100 samples of neural networks to get 100 different output values from the last layer\n",
        "2. Convert those outputs (which are logsoftmaxed) into probabilities by exponentiating them\n",
        "3. Now, given the input image, for each digit we have 100 probability values\n",
        "4. We take median (50th percentile) of these 100 probability values as the threshold probability for each digit\n",
        "5. If the threshold probability is greater than 0.2, we select the digit as a classification output from the network"
      ],
      "metadata": {
        "id": "2jkUeNjGkho7"
      }
    },
    {
      "cell_type": "code",
      "source": [
        "def give_uncertainities(x):\n",
        "  \"\"\"Give the output of different models without averaging or taking max \"\"\"\n",
        "  sampled_models = [guide(None, None) for _ in range(num_samples)]\n",
        "  yhats = [F.log_softmax(model(x.view(-1,28*28)).data, 1).detach().numpy() for model in sampled_models]\n",
        "  return np.asarray(yhats)"
      ],
      "metadata": {
        "id": "W0x4Elg9QA16"
      },
      "execution_count": 19,
      "outputs": []
    },
    {
      "cell_type": "code",
      "source": [
        "uncertain_images = []\n",
        "\n",
        "for j, data in enumerate(test_loader):\n",
        "  certain = False \n",
        "  images, labels = data\n",
        "  for img in images:\n",
        "    predicted = predict(img.view(-1,28*28))\n",
        "    uncertainties = give_uncertainities(img)\n",
        "    for c in range(len(classes)):\n",
        "      histo_exp = []\n",
        "      #for each class, try to get probability from each model\n",
        "      for z in range(uncertainties.shape[0]):\n",
        "        histo_exp.append(np.exp(uncertainties[z][0][c])) #converting the outputs to probabilities\n",
        "\n",
        "      prob = np.percentile(histo_exp, 50) #sampling median probability for each class\n",
        "      if(prob > 0.2): #select if network thinks this sample is 20% chance of this being a class\n",
        "        certain = True \n",
        "\n",
        "    if not certain:\n",
        "      print(\"Actual class \",labels[0])\n",
        "      print(\"Predicted with low certainty as \",predicted, \" with probability \",prob)\n",
        "      show_image(img.reshape(28,28))\n",
        "      uncertain_images.append(img.reshape(28,28))\n",
        "\n",
        "    break"
      ],
      "metadata": {
        "colab": {
          "base_uri": "https://localhost:8080/",
          "height": 931
        },
        "id": "iLbwWNZHUQ6d",
        "outputId": "cb6ffc12-e471-4dd3-8497-2ba490a0f174"
      },
      "execution_count": 21,
      "outputs": [
        {
          "output_type": "stream",
          "name": "stderr",
          "text": [
            "/usr/local/lib/python3.7/dist-packages/pyro/primitives.py:406: FutureWarning: The `random_module` primitive is deprecated, and will be removed in a future release. Use `pyro.nn.Module` to create Bayesian modules from `torch.nn.Module` instances.\n",
            "  \"modules from `torch.nn.Module` instances.\", FutureWarning)\n"
          ]
        },
        {
          "output_type": "stream",
          "name": "stdout",
          "text": [
            "Actual class  tensor(8)\n",
            "Predicted with low certainty as  [8]  with probability  0.0\n"
          ]
        },
        {
          "output_type": "display_data",
          "data": {
            "image/png": "[encoded data removed]",
            "text/plain": [
              "<Figure size 72x72 with 1 Axes>"
            ]
          },
          "metadata": {
            "needs_background": "light"
          }
        },
        {
          "output_type": "stream",
          "name": "stdout",
          "text": [
            "Actual class  tensor(7)\n",
            "Predicted with low certainty as  [4]  with probability  0.0\n"
          ]
        },
        {
          "output_type": "display_data",
          "data": {
            "image/png": "[encoded data removed]",
            "text/plain": [
              "<Figure size 72x72 with 1 Axes>"
            ]
          },
          "metadata": {
            "needs_background": "light"
          }
        },
        {
          "output_type": "stream",
          "name": "stdout",
          "text": [
            "Actual class  tensor(8)\n",
            "Predicted with low certainty as  [8]  with probability  0.0\n"
          ]
        },
        {
          "output_type": "display_data",
          "data": {
            "image/png": "[encoded data removed]",
            "text/plain": [
              "<Figure size 72x72 with 1 Axes>"
            ]
          },
          "metadata": {
            "needs_background": "light"
          }
        },
        {
          "output_type": "stream",
          "name": "stdout",
          "text": [
            "Actual class  tensor(6)\n",
            "Predicted with low certainty as  [6]  with probability  0.0\n"
          ]
        },
        {
          "output_type": "display_data",
          "data": {
            "image/png": "[encoded data removed]",
            "text/plain": [
              "<Figure size 72x72 with 1 Axes>"
            ]
          },
          "metadata": {
            "needs_background": "light"
          }
        },
        {
          "output_type": "stream",
          "name": "stdout",
          "text": [
            "Actual class  tensor(0)\n",
            "Predicted with low certainty as  [0]  with probability  0.0\n"
          ]
        },
        {
          "output_type": "display_data",
          "data": {
            "image/png": "[encoded data removed]",
            "text/plain": [
              "<Figure size 72x72 with 1 Axes>"
            ]
          },
          "metadata": {
            "needs_background": "light"
          }
        },
        {
          "output_type": "stream",
          "name": "stdout",
          "text": [
            "Actual class  tensor(0)\n",
            "Predicted with low certainty as  [0]  with probability  0.0\n"
          ]
        },
        {
          "output_type": "display_data",
          "data": {
            "image/png": "[encoded data removed]",
            "text/plain": [
              "<Figure size 72x72 with 1 Axes>"
            ]
          },
          "metadata": {
            "needs_background": "light"
          }
        },
        {
          "output_type": "stream",
          "name": "stdout",
          "text": [
            "Actual class  tensor(9)\n",
            "Predicted with low certainty as  [9]  with probability  2.2113408950535826e-15\n"
          ]
        },
        {
          "output_type": "display_data",
          "data": {
            "image/png": "[encoded data removed]",
            "text/plain": [
              "<Figure size 72x72 with 1 Axes>"
            ]
          },
          "metadata": {
            "needs_background": "light"
          }
        }
      ]
    }
  ]
}